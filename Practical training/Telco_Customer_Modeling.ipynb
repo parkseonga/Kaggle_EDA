{
 "cells": [
  {
   "cell_type": "markdown",
   "metadata": {},
   "source": [
    "# 통신사 고객 이탈 예측 "
   ]
  },
  {
   "cell_type": "markdown",
   "metadata": {},
   "source": [
    "### 목적\n",
    "* 파악한 특성들을 이용하여 기대 가치가 큰 고객의 이탈 징후를 잘 탐지하는 예측 모델 생성.\n",
    "[참고](https://brunch.co.kr/@gimmesilver/53)\n",
    "    - 예측 모델의 목표는 오차를 최소화하는 것이 아니다.\n",
    "        - 실제 서비스에서 예측 모델을 사용하는 본질적인 목적은 정답을 잘 맞추겠다가 아니라 예측 모델을 실전에 적용함으로써 이익을 얻는 것. \n",
    "        - 따라서, 실제 예측 모델이 목표로 해야할 것은 오차를 최소화하는 것이 아니라 모델 적용을 통해 기대되는 이익을 최대화하는 것. \n",
    "        \n",
    "### 문제 정의\n",
    "* 지도학습, 분류\n",
    "\n",
    "### 성능 지표\n",
    "* 재현율\n",
    "    * 실제 이탈하는 사람 중 이탈이라고 예측하는 것이 중요하기 때문.\n",
    "    * 실제 이탈하지 않은 사람을 이탈이라고 예측하면 회사 측에서 손해액 발생"
   ]
  },
  {
   "cell_type": "code",
   "execution_count": 189,
   "metadata": {},
   "outputs": [],
   "source": [
    "import pandas as pd\n",
    "import numpy as np\n",
    "\n",
    "from sklearn.preprocessing import OneHotEncoder  # 더미변수 생성 \n",
    "\n",
    "from sklearn.compose import ColumnTransformer\n",
    "from sklearn.pipeline import Pipeline\n",
    "from sklearn.impute import SimpleImputer\n",
    "from sklearn.preprocessing import MinMaxScaler\n",
    "from sklearn.model_selection import train_test_split\n",
    "\n",
    "import time\n",
    "\n",
    "from sklearn.model_selection import cross_val_score\n",
    "from sklearn.model_selection import cross_val_predict\n",
    "\n",
    "from sklearn.model_selection import StratifiedKFold\n",
    "from sklearn.model_selection import GridSearchCV\n",
    "\n",
    "from sklearn.ensemble import RandomForestClassifier, GradientBoostingClassifier  # 분류\n",
    "from sklearn.linear_model import LogisticRegression\n",
    "from xgboost import XGBClassifier\n",
    "from sklearn.ensemble import AdaBoostClassifier\n",
    "\n",
    "from sklearn.metrics import confusion_matrix\n",
    "from sklearn.metrics import classification_report\n",
    "\n",
    "import warnings\n",
    "warnings.filterwarnings(action='ignore')\n",
    "\n",
    "import seaborn as sns\n"
   ]
  },
  {
   "cell_type": "code",
   "execution_count": 2,
   "metadata": {},
   "outputs": [
    {
     "data": {
      "text/plain": [
       "(7043, 21)"
      ]
     },
     "execution_count": 2,
     "metadata": {},
     "output_type": "execute_result"
    }
   ],
   "source": [
    "df = pd.read_csv(\"../../data/WA_Fn-UseC_-Telco-Customer-Churn.csv\")\n",
    "df.shape"
   ]
  },
  {
   "cell_type": "code",
   "execution_count": 3,
   "metadata": {},
   "outputs": [
    {
     "data": {
      "text/html": [
       "<div>\n",
       "<style scoped>\n",
       "    .dataframe tbody tr th:only-of-type {\n",
       "        vertical-align: middle;\n",
       "    }\n",
       "\n",
       "    .dataframe tbody tr th {\n",
       "        vertical-align: top;\n",
       "    }\n",
       "\n",
       "    .dataframe thead th {\n",
       "        text-align: right;\n",
       "    }\n",
       "</style>\n",
       "<table border=\"1\" class=\"dataframe\">\n",
       "  <thead>\n",
       "    <tr style=\"text-align: right;\">\n",
       "      <th></th>\n",
       "      <th>customerID</th>\n",
       "      <th>gender</th>\n",
       "      <th>SeniorCitizen</th>\n",
       "      <th>Partner</th>\n",
       "      <th>Dependents</th>\n",
       "      <th>tenure</th>\n",
       "      <th>PhoneService</th>\n",
       "      <th>MultipleLines</th>\n",
       "      <th>InternetService</th>\n",
       "      <th>OnlineSecurity</th>\n",
       "      <th>...</th>\n",
       "      <th>DeviceProtection</th>\n",
       "      <th>TechSupport</th>\n",
       "      <th>StreamingTV</th>\n",
       "      <th>StreamingMovies</th>\n",
       "      <th>Contract</th>\n",
       "      <th>PaperlessBilling</th>\n",
       "      <th>PaymentMethod</th>\n",
       "      <th>MonthlyCharges</th>\n",
       "      <th>TotalCharges</th>\n",
       "      <th>Churn</th>\n",
       "    </tr>\n",
       "  </thead>\n",
       "  <tbody>\n",
       "    <tr>\n",
       "      <th>0</th>\n",
       "      <td>7590-VHVEG</td>\n",
       "      <td>Female</td>\n",
       "      <td>0</td>\n",
       "      <td>Yes</td>\n",
       "      <td>No</td>\n",
       "      <td>1</td>\n",
       "      <td>No</td>\n",
       "      <td>No phone service</td>\n",
       "      <td>DSL</td>\n",
       "      <td>No</td>\n",
       "      <td>...</td>\n",
       "      <td>No</td>\n",
       "      <td>No</td>\n",
       "      <td>No</td>\n",
       "      <td>No</td>\n",
       "      <td>Month-to-month</td>\n",
       "      <td>Yes</td>\n",
       "      <td>Electronic check</td>\n",
       "      <td>29.85</td>\n",
       "      <td>29.85</td>\n",
       "      <td>No</td>\n",
       "    </tr>\n",
       "    <tr>\n",
       "      <th>1</th>\n",
       "      <td>5575-GNVDE</td>\n",
       "      <td>Male</td>\n",
       "      <td>0</td>\n",
       "      <td>No</td>\n",
       "      <td>No</td>\n",
       "      <td>34</td>\n",
       "      <td>Yes</td>\n",
       "      <td>No</td>\n",
       "      <td>DSL</td>\n",
       "      <td>Yes</td>\n",
       "      <td>...</td>\n",
       "      <td>Yes</td>\n",
       "      <td>No</td>\n",
       "      <td>No</td>\n",
       "      <td>No</td>\n",
       "      <td>One year</td>\n",
       "      <td>No</td>\n",
       "      <td>Mailed check</td>\n",
       "      <td>56.95</td>\n",
       "      <td>1889.5</td>\n",
       "      <td>No</td>\n",
       "    </tr>\n",
       "    <tr>\n",
       "      <th>2</th>\n",
       "      <td>3668-QPYBK</td>\n",
       "      <td>Male</td>\n",
       "      <td>0</td>\n",
       "      <td>No</td>\n",
       "      <td>No</td>\n",
       "      <td>2</td>\n",
       "      <td>Yes</td>\n",
       "      <td>No</td>\n",
       "      <td>DSL</td>\n",
       "      <td>Yes</td>\n",
       "      <td>...</td>\n",
       "      <td>No</td>\n",
       "      <td>No</td>\n",
       "      <td>No</td>\n",
       "      <td>No</td>\n",
       "      <td>Month-to-month</td>\n",
       "      <td>Yes</td>\n",
       "      <td>Mailed check</td>\n",
       "      <td>53.85</td>\n",
       "      <td>108.15</td>\n",
       "      <td>Yes</td>\n",
       "    </tr>\n",
       "    <tr>\n",
       "      <th>3</th>\n",
       "      <td>7795-CFOCW</td>\n",
       "      <td>Male</td>\n",
       "      <td>0</td>\n",
       "      <td>No</td>\n",
       "      <td>No</td>\n",
       "      <td>45</td>\n",
       "      <td>No</td>\n",
       "      <td>No phone service</td>\n",
       "      <td>DSL</td>\n",
       "      <td>Yes</td>\n",
       "      <td>...</td>\n",
       "      <td>Yes</td>\n",
       "      <td>Yes</td>\n",
       "      <td>No</td>\n",
       "      <td>No</td>\n",
       "      <td>One year</td>\n",
       "      <td>No</td>\n",
       "      <td>Bank transfer (automatic)</td>\n",
       "      <td>42.30</td>\n",
       "      <td>1840.75</td>\n",
       "      <td>No</td>\n",
       "    </tr>\n",
       "    <tr>\n",
       "      <th>4</th>\n",
       "      <td>9237-HQITU</td>\n",
       "      <td>Female</td>\n",
       "      <td>0</td>\n",
       "      <td>No</td>\n",
       "      <td>No</td>\n",
       "      <td>2</td>\n",
       "      <td>Yes</td>\n",
       "      <td>No</td>\n",
       "      <td>Fiber optic</td>\n",
       "      <td>No</td>\n",
       "      <td>...</td>\n",
       "      <td>No</td>\n",
       "      <td>No</td>\n",
       "      <td>No</td>\n",
       "      <td>No</td>\n",
       "      <td>Month-to-month</td>\n",
       "      <td>Yes</td>\n",
       "      <td>Electronic check</td>\n",
       "      <td>70.70</td>\n",
       "      <td>151.65</td>\n",
       "      <td>Yes</td>\n",
       "    </tr>\n",
       "  </tbody>\n",
       "</table>\n",
       "<p>5 rows × 21 columns</p>\n",
       "</div>"
      ],
      "text/plain": [
       "   customerID  gender  SeniorCitizen Partner Dependents  tenure PhoneService  \\\n",
       "0  7590-VHVEG  Female              0     Yes         No       1           No   \n",
       "1  5575-GNVDE    Male              0      No         No      34          Yes   \n",
       "2  3668-QPYBK    Male              0      No         No       2          Yes   \n",
       "3  7795-CFOCW    Male              0      No         No      45           No   \n",
       "4  9237-HQITU  Female              0      No         No       2          Yes   \n",
       "\n",
       "      MultipleLines InternetService OnlineSecurity  ... DeviceProtection  \\\n",
       "0  No phone service             DSL             No  ...               No   \n",
       "1                No             DSL            Yes  ...              Yes   \n",
       "2                No             DSL            Yes  ...               No   \n",
       "3  No phone service             DSL            Yes  ...              Yes   \n",
       "4                No     Fiber optic             No  ...               No   \n",
       "\n",
       "  TechSupport StreamingTV StreamingMovies        Contract PaperlessBilling  \\\n",
       "0          No          No              No  Month-to-month              Yes   \n",
       "1          No          No              No        One year               No   \n",
       "2          No          No              No  Month-to-month              Yes   \n",
       "3         Yes          No              No        One year               No   \n",
       "4          No          No              No  Month-to-month              Yes   \n",
       "\n",
       "               PaymentMethod MonthlyCharges  TotalCharges Churn  \n",
       "0           Electronic check          29.85         29.85    No  \n",
       "1               Mailed check          56.95        1889.5    No  \n",
       "2               Mailed check          53.85        108.15   Yes  \n",
       "3  Bank transfer (automatic)          42.30       1840.75    No  \n",
       "4           Electronic check          70.70        151.65   Yes  \n",
       "\n",
       "[5 rows x 21 columns]"
      ]
     },
     "execution_count": 3,
     "metadata": {},
     "output_type": "execute_result"
    }
   ],
   "source": [
    "df.head()"
   ]
  },
  {
   "cell_type": "code",
   "execution_count": 4,
   "metadata": {},
   "outputs": [],
   "source": [
    "X = df.drop([\"Churn\"],axis = 1)\n",
    "y = df[\"Churn\"]"
   ]
  },
  {
   "cell_type": "code",
   "execution_count": 5,
   "metadata": {},
   "outputs": [],
   "source": [
    "y.replace(\"No\",0,inplace = True)\n",
    "y.replace(\"Yes\",1,inplace = True)"
   ]
  },
  {
   "cell_type": "code",
   "execution_count": 6,
   "metadata": {},
   "outputs": [
    {
     "data": {
      "text/plain": [
       "0    0.73463\n",
       "1    0.26537\n",
       "Name: Churn, dtype: float64"
      ]
     },
     "execution_count": 6,
     "metadata": {},
     "output_type": "execute_result"
    }
   ],
   "source": [
    "y.value_counts()/len(y)"
   ]
  },
  {
   "cell_type": "code",
   "execution_count": 7,
   "metadata": {},
   "outputs": [],
   "source": [
    "X_train, X_test, y_train, y_test = train_test_split(X,y,stratify = y,test_size = 0.2, shuffle = True, random_state = 20171490)"
   ]
  },
  {
   "cell_type": "code",
   "execution_count": 8,
   "metadata": {},
   "outputs": [
    {
     "name": "stdout",
     "output_type": "stream",
     "text": [
      "(5634, 20)\n",
      "(1409, 20)\n",
      "(5634,)\n",
      "(1409,)\n"
     ]
    }
   ],
   "source": [
    "print(X_train.shape)\n",
    "print(X_test.shape)\n",
    "print(y_train.shape)\n",
    "print(y_test.shape)"
   ]
  },
  {
   "cell_type": "markdown",
   "metadata": {},
   "source": [
    "#### train데이터로만 탐색"
   ]
  },
  {
   "cell_type": "code",
   "execution_count": 9,
   "metadata": {},
   "outputs": [],
   "source": [
    "data_train = X_train"
   ]
  },
  {
   "cell_type": "code",
   "execution_count": 10,
   "metadata": {},
   "outputs": [
    {
     "name": "stdout",
     "output_type": "stream",
     "text": [
      "<class 'pandas.core.frame.DataFrame'>\n",
      "Int64Index: 5634 entries, 5658 to 1059\n",
      "Data columns (total 20 columns):\n",
      " #   Column            Non-Null Count  Dtype  \n",
      "---  ------            --------------  -----  \n",
      " 0   customerID        5634 non-null   object \n",
      " 1   gender            5634 non-null   object \n",
      " 2   SeniorCitizen     5634 non-null   int64  \n",
      " 3   Partner           5634 non-null   object \n",
      " 4   Dependents        5634 non-null   object \n",
      " 5   tenure            5634 non-null   int64  \n",
      " 6   PhoneService      5634 non-null   object \n",
      " 7   MultipleLines     5634 non-null   object \n",
      " 8   InternetService   5634 non-null   object \n",
      " 9   OnlineSecurity    5634 non-null   object \n",
      " 10  OnlineBackup      5634 non-null   object \n",
      " 11  DeviceProtection  5634 non-null   object \n",
      " 12  TechSupport       5634 non-null   object \n",
      " 13  StreamingTV       5634 non-null   object \n",
      " 14  StreamingMovies   5634 non-null   object \n",
      " 15  Contract          5634 non-null   object \n",
      " 16  PaperlessBilling  5634 non-null   object \n",
      " 17  PaymentMethod     5634 non-null   object \n",
      " 18  MonthlyCharges    5634 non-null   float64\n",
      " 19  TotalCharges      5634 non-null   object \n",
      "dtypes: float64(1), int64(2), object(17)\n",
      "memory usage: 924.3+ KB\n"
     ]
    }
   ],
   "source": [
    "data_train.info()"
   ]
  },
  {
   "cell_type": "code",
   "execution_count": 11,
   "metadata": {},
   "outputs": [],
   "source": [
    "data_train[\"SeniorCitizen\"] = data_train[\"SeniorCitizen\"].astype(\"object\")\n",
    "data_train[\"TotalCharges\"] = pd.to_numeric(data_train[\"TotalCharges\"],errors = 'coerce')"
   ]
  },
  {
   "cell_type": "code",
   "execution_count": 12,
   "metadata": {},
   "outputs": [
    {
     "name": "stdout",
     "output_type": "stream",
     "text": [
      "<class 'pandas.core.frame.DataFrame'>\n",
      "Int64Index: 5634 entries, 5658 to 1059\n",
      "Data columns (total 20 columns):\n",
      " #   Column            Non-Null Count  Dtype  \n",
      "---  ------            --------------  -----  \n",
      " 0   customerID        5634 non-null   object \n",
      " 1   gender            5634 non-null   object \n",
      " 2   SeniorCitizen     5634 non-null   object \n",
      " 3   Partner           5634 non-null   object \n",
      " 4   Dependents        5634 non-null   object \n",
      " 5   tenure            5634 non-null   int64  \n",
      " 6   PhoneService      5634 non-null   object \n",
      " 7   MultipleLines     5634 non-null   object \n",
      " 8   InternetService   5634 non-null   object \n",
      " 9   OnlineSecurity    5634 non-null   object \n",
      " 10  OnlineBackup      5634 non-null   object \n",
      " 11  DeviceProtection  5634 non-null   object \n",
      " 12  TechSupport       5634 non-null   object \n",
      " 13  StreamingTV       5634 non-null   object \n",
      " 14  StreamingMovies   5634 non-null   object \n",
      " 15  Contract          5634 non-null   object \n",
      " 16  PaperlessBilling  5634 non-null   object \n",
      " 17  PaymentMethod     5634 non-null   object \n",
      " 18  MonthlyCharges    5634 non-null   float64\n",
      " 19  TotalCharges      5625 non-null   float64\n",
      "dtypes: float64(2), int64(1), object(17)\n",
      "memory usage: 924.3+ KB\n"
     ]
    }
   ],
   "source": [
    "data_train.info()"
   ]
  },
  {
   "cell_type": "code",
   "execution_count": 13,
   "metadata": {},
   "outputs": [
    {
     "name": "stdout",
     "output_type": "stream",
     "text": [
      "['gender', 'SeniorCitizen', 'Partner', 'Dependents', 'PhoneService', 'PaperlessBilling']\n",
      "['customerID', 'MultipleLines', 'InternetService', 'OnlineSecurity', 'OnlineBackup', 'DeviceProtection', 'TechSupport', 'StreamingTV', 'StreamingMovies', 'Contract', 'PaymentMethod']\n"
     ]
    }
   ],
   "source": [
    "cate_features2 = []\n",
    "cate_features_not2 = []\n",
    "\n",
    "for column in data_train.columns:\n",
    "    if data_train[column].dtypes==object:\n",
    "        if len(data_train[column].value_counts())==2:\n",
    "            cate_features2.append(column)\n",
    "        else:\n",
    "            cate_features_not2.append(column)\n",
    "        \n",
    "print(cate_features2)\n",
    "print(cate_features_not2)"
   ]
  },
  {
   "cell_type": "code",
   "execution_count": 14,
   "metadata": {},
   "outputs": [
    {
     "data": {
      "text/plain": [
       "['Partner', 'Dependents', 'PhoneService', 'PaperlessBilling']"
      ]
     },
     "execution_count": 14,
     "metadata": {},
     "output_type": "execute_result"
    }
   ],
   "source": [
    "cate_features2_for = cate_features2[2:]\n",
    "cate_features2_for"
   ]
  },
  {
   "cell_type": "code",
   "execution_count": 15,
   "metadata": {},
   "outputs": [],
   "source": [
    "data_train[\"gender\"].replace(\"Female\",1,inplace=True)\n",
    "data_train[\"gender\"].replace(\"Male\",0,inplace=True)"
   ]
  },
  {
   "cell_type": "code",
   "execution_count": 16,
   "metadata": {},
   "outputs": [],
   "source": [
    "for column in cate_features2_for:\n",
    "    data_train[column] = data_train[column].replace(\"Yes\",1)\n",
    "    data_train[column] = data_train[column].replace(\"No\",0)"
   ]
  },
  {
   "cell_type": "code",
   "execution_count": 17,
   "metadata": {},
   "outputs": [],
   "source": [
    "data_train = data_train.drop([\"customerID\",\"TotalCharges\"], axis = 1)"
   ]
  },
  {
   "cell_type": "code",
   "execution_count": 21,
   "metadata": {},
   "outputs": [],
   "source": [
    "num_features = [\"tenure\",\"MonthlyCharges\"]"
   ]
  },
  {
   "cell_type": "code",
   "execution_count": 22,
   "metadata": {},
   "outputs": [
    {
     "data": {
      "text/plain": [
       "array([[<AxesSubplot:title={'center':'tenure'}>,\n",
       "        <AxesSubplot:title={'center':'MonthlyCharges'}>]], dtype=object)"
      ]
     },
     "execution_count": 22,
     "metadata": {},
     "output_type": "execute_result"
    },
    {
     "data": {
      "image/png": "[encoded data removed]",
      "text/plain": [
       "<Figure size 432x288 with 2 Axes>"
      ]
     },
     "metadata": {
      "needs_background": "light"
     },
     "output_type": "display_data"
    }
   ],
   "source": [
    "data_train[num_features].hist()"
   ]
  },
  {
   "cell_type": "code",
   "execution_count": 23,
   "metadata": {
    "scrolled": true
   },
   "outputs": [
    {
     "data": {
      "text/plain": [
       "array([[<AxesSubplot:title={'center':'tenure'}>,\n",
       "        <AxesSubplot:title={'center':'MonthlyCharges'}>]], dtype=object)"
      ]
     },
     "execution_count": 23,
     "metadata": {},
     "output_type": "execute_result"
    },
    {
     "data": {
      "image/png": "[encoded data removed]",
      "text/plain": [
       "<Figure size 432x288 with 2 Axes>"
      ]
     },
     "metadata": {
      "needs_background": "light"
     },
     "output_type": "display_data"
    }
   ],
   "source": [
    "data_train[num_features].hist(log=True)"
   ]
  },
  {
   "cell_type": "code",
   "execution_count": 24,
   "metadata": {},
   "outputs": [
    {
     "name": "stdout",
     "output_type": "stream",
     "text": [
      "['customerID', 'MultipleLines', 'InternetService', 'OnlineSecurity', 'OnlineBackup', 'DeviceProtection', 'TechSupport', 'StreamingTV', 'StreamingMovies', 'Contract', 'PaymentMethod']\n",
      "['tenure', 'MonthlyCharges']\n"
     ]
    }
   ],
   "source": [
    "print(cate_features_not2)\n",
    "print(num_features)"
   ]
  },
  {
   "cell_type": "code",
   "execution_count": 25,
   "metadata": {},
   "outputs": [],
   "source": [
    "cate_features_not2.remove(\"customerID\")\n",
    "\n",
    "scaler_pipeline = Pipeline([\n",
    "    ('imputer', SimpleImputer(strategy=\"median\")),\n",
    "    ('scaler', MinMaxScaler(feature_range=(0,1))),\n",
    "])"
   ]
  },
  {
   "cell_type": "code",
   "execution_count": 26,
   "metadata": {},
   "outputs": [
    {
     "data": {
      "text/plain": [
       "Index(['gender', 'SeniorCitizen', 'Partner', 'Dependents', 'tenure',\n",
       "       'PhoneService', 'MultipleLines', 'InternetService', 'OnlineSecurity',\n",
       "       'OnlineBackup', 'DeviceProtection', 'TechSupport', 'StreamingTV',\n",
       "       'StreamingMovies', 'Contract', 'PaperlessBilling', 'PaymentMethod',\n",
       "       'MonthlyCharges'],\n",
       "      dtype='object')"
      ]
     },
     "execution_count": 26,
     "metadata": {},
     "output_type": "execute_result"
    }
   ],
   "source": [
    "data_train.columns"
   ]
  },
  {
   "cell_type": "code",
   "execution_count": 27,
   "metadata": {
    "scrolled": false
   },
   "outputs": [],
   "source": [
    "selector = ColumnTransformer([\n",
    "    ('one_hot', OneHotEncoder(), cate_features_not2), # 나열되지 않은 나머지 열은 삭제됨. \n",
    "    ('scaler', scaler_pipeline, num_features),\n",
    "],remainder=\"passthrough\")\n",
    "\n",
    "X_prepared = selector.fit_transform(data_train)"
   ]
  },
  {
   "cell_type": "code",
   "execution_count": 28,
   "metadata": {},
   "outputs": [
    {
     "data": {
      "text/html": [
       "<div>\n",
       "<style scoped>\n",
       "    .dataframe tbody tr th:only-of-type {\n",
       "        vertical-align: middle;\n",
       "    }\n",
       "\n",
       "    .dataframe tbody tr th {\n",
       "        vertical-align: top;\n",
       "    }\n",
       "\n",
       "    .dataframe thead th {\n",
       "        text-align: right;\n",
       "    }\n",
       "</style>\n",
       "<table border=\"1\" class=\"dataframe\">\n",
       "  <thead>\n",
       "    <tr style=\"text-align: right;\">\n",
       "      <th></th>\n",
       "      <th>0</th>\n",
       "      <th>1</th>\n",
       "      <th>2</th>\n",
       "      <th>3</th>\n",
       "      <th>4</th>\n",
       "      <th>5</th>\n",
       "      <th>6</th>\n",
       "      <th>7</th>\n",
       "      <th>8</th>\n",
       "      <th>9</th>\n",
       "      <th>...</th>\n",
       "      <th>29</th>\n",
       "      <th>30</th>\n",
       "      <th>31</th>\n",
       "      <th>32</th>\n",
       "      <th>33</th>\n",
       "      <th>34</th>\n",
       "      <th>35</th>\n",
       "      <th>36</th>\n",
       "      <th>37</th>\n",
       "      <th>38</th>\n",
       "    </tr>\n",
       "  </thead>\n",
       "  <tbody>\n",
       "    <tr>\n",
       "      <th>0</th>\n",
       "      <td>0</td>\n",
       "      <td>0</td>\n",
       "      <td>1</td>\n",
       "      <td>0</td>\n",
       "      <td>1</td>\n",
       "      <td>0</td>\n",
       "      <td>1</td>\n",
       "      <td>0</td>\n",
       "      <td>0</td>\n",
       "      <td>1</td>\n",
       "      <td>...</td>\n",
       "      <td>1</td>\n",
       "      <td>0</td>\n",
       "      <td>0.333333</td>\n",
       "      <td>0.743781</td>\n",
       "      <td>0</td>\n",
       "      <td>0</td>\n",
       "      <td>1</td>\n",
       "      <td>0</td>\n",
       "      <td>1</td>\n",
       "      <td>1</td>\n",
       "    </tr>\n",
       "    <tr>\n",
       "      <th>1</th>\n",
       "      <td>0</td>\n",
       "      <td>0</td>\n",
       "      <td>1</td>\n",
       "      <td>0</td>\n",
       "      <td>1</td>\n",
       "      <td>0</td>\n",
       "      <td>1</td>\n",
       "      <td>0</td>\n",
       "      <td>0</td>\n",
       "      <td>0</td>\n",
       "      <td>...</td>\n",
       "      <td>0</td>\n",
       "      <td>0</td>\n",
       "      <td>0.486111</td>\n",
       "      <td>0.667164</td>\n",
       "      <td>1</td>\n",
       "      <td>0</td>\n",
       "      <td>0</td>\n",
       "      <td>0</td>\n",
       "      <td>1</td>\n",
       "      <td>0</td>\n",
       "    </tr>\n",
       "    <tr>\n",
       "      <th>2</th>\n",
       "      <td>1</td>\n",
       "      <td>0</td>\n",
       "      <td>0</td>\n",
       "      <td>0</td>\n",
       "      <td>1</td>\n",
       "      <td>0</td>\n",
       "      <td>1</td>\n",
       "      <td>0</td>\n",
       "      <td>0</td>\n",
       "      <td>0</td>\n",
       "      <td>...</td>\n",
       "      <td>0</td>\n",
       "      <td>1</td>\n",
       "      <td>0.180556</td>\n",
       "      <td>0.561194</td>\n",
       "      <td>1</td>\n",
       "      <td>0</td>\n",
       "      <td>0</td>\n",
       "      <td>0</td>\n",
       "      <td>1</td>\n",
       "      <td>1</td>\n",
       "    </tr>\n",
       "    <tr>\n",
       "      <th>3</th>\n",
       "      <td>1</td>\n",
       "      <td>0</td>\n",
       "      <td>0</td>\n",
       "      <td>0</td>\n",
       "      <td>0</td>\n",
       "      <td>1</td>\n",
       "      <td>0</td>\n",
       "      <td>1</td>\n",
       "      <td>0</td>\n",
       "      <td>0</td>\n",
       "      <td>...</td>\n",
       "      <td>0</td>\n",
       "      <td>1</td>\n",
       "      <td>0.583333</td>\n",
       "      <td>0.0243781</td>\n",
       "      <td>0</td>\n",
       "      <td>0</td>\n",
       "      <td>1</td>\n",
       "      <td>1</td>\n",
       "      <td>1</td>\n",
       "      <td>0</td>\n",
       "    </tr>\n",
       "    <tr>\n",
       "      <th>4</th>\n",
       "      <td>0</td>\n",
       "      <td>1</td>\n",
       "      <td>0</td>\n",
       "      <td>1</td>\n",
       "      <td>0</td>\n",
       "      <td>0</td>\n",
       "      <td>1</td>\n",
       "      <td>0</td>\n",
       "      <td>0</td>\n",
       "      <td>1</td>\n",
       "      <td>...</td>\n",
       "      <td>0</td>\n",
       "      <td>1</td>\n",
       "      <td>0.0555556</td>\n",
       "      <td>0.0597015</td>\n",
       "      <td>1</td>\n",
       "      <td>0</td>\n",
       "      <td>0</td>\n",
       "      <td>0</td>\n",
       "      <td>0</td>\n",
       "      <td>1</td>\n",
       "    </tr>\n",
       "    <tr>\n",
       "      <th>...</th>\n",
       "      <td>...</td>\n",
       "      <td>...</td>\n",
       "      <td>...</td>\n",
       "      <td>...</td>\n",
       "      <td>...</td>\n",
       "      <td>...</td>\n",
       "      <td>...</td>\n",
       "      <td>...</td>\n",
       "      <td>...</td>\n",
       "      <td>...</td>\n",
       "      <td>...</td>\n",
       "      <td>...</td>\n",
       "      <td>...</td>\n",
       "      <td>...</td>\n",
       "      <td>...</td>\n",
       "      <td>...</td>\n",
       "      <td>...</td>\n",
       "      <td>...</td>\n",
       "      <td>...</td>\n",
       "      <td>...</td>\n",
       "      <td>...</td>\n",
       "    </tr>\n",
       "    <tr>\n",
       "      <th>5629</th>\n",
       "      <td>1</td>\n",
       "      <td>0</td>\n",
       "      <td>0</td>\n",
       "      <td>0</td>\n",
       "      <td>0</td>\n",
       "      <td>1</td>\n",
       "      <td>0</td>\n",
       "      <td>1</td>\n",
       "      <td>0</td>\n",
       "      <td>0</td>\n",
       "      <td>...</td>\n",
       "      <td>0</td>\n",
       "      <td>1</td>\n",
       "      <td>0.0833333</td>\n",
       "      <td>0.0144279</td>\n",
       "      <td>0</td>\n",
       "      <td>0</td>\n",
       "      <td>0</td>\n",
       "      <td>1</td>\n",
       "      <td>1</td>\n",
       "      <td>0</td>\n",
       "    </tr>\n",
       "    <tr>\n",
       "      <th>5630</th>\n",
       "      <td>0</td>\n",
       "      <td>0</td>\n",
       "      <td>1</td>\n",
       "      <td>1</td>\n",
       "      <td>0</td>\n",
       "      <td>0</td>\n",
       "      <td>0</td>\n",
       "      <td>0</td>\n",
       "      <td>1</td>\n",
       "      <td>0</td>\n",
       "      <td>...</td>\n",
       "      <td>0</td>\n",
       "      <td>0</td>\n",
       "      <td>0.916667</td>\n",
       "      <td>0.489552</td>\n",
       "      <td>1</td>\n",
       "      <td>0</td>\n",
       "      <td>1</td>\n",
       "      <td>1</td>\n",
       "      <td>1</td>\n",
       "      <td>1</td>\n",
       "    </tr>\n",
       "    <tr>\n",
       "      <th>5631</th>\n",
       "      <td>0</td>\n",
       "      <td>0</td>\n",
       "      <td>1</td>\n",
       "      <td>0</td>\n",
       "      <td>1</td>\n",
       "      <td>0</td>\n",
       "      <td>1</td>\n",
       "      <td>0</td>\n",
       "      <td>0</td>\n",
       "      <td>1</td>\n",
       "      <td>...</td>\n",
       "      <td>0</td>\n",
       "      <td>0</td>\n",
       "      <td>0.916667</td>\n",
       "      <td>0.81393</td>\n",
       "      <td>0</td>\n",
       "      <td>1</td>\n",
       "      <td>1</td>\n",
       "      <td>0</td>\n",
       "      <td>1</td>\n",
       "      <td>1</td>\n",
       "    </tr>\n",
       "    <tr>\n",
       "      <th>5632</th>\n",
       "      <td>0</td>\n",
       "      <td>0</td>\n",
       "      <td>1</td>\n",
       "      <td>1</td>\n",
       "      <td>0</td>\n",
       "      <td>0</td>\n",
       "      <td>0</td>\n",
       "      <td>0</td>\n",
       "      <td>1</td>\n",
       "      <td>0</td>\n",
       "      <td>...</td>\n",
       "      <td>0</td>\n",
       "      <td>0</td>\n",
       "      <td>0.972222</td>\n",
       "      <td>0.714428</td>\n",
       "      <td>0</td>\n",
       "      <td>1</td>\n",
       "      <td>1</td>\n",
       "      <td>0</td>\n",
       "      <td>1</td>\n",
       "      <td>0</td>\n",
       "    </tr>\n",
       "    <tr>\n",
       "      <th>5633</th>\n",
       "      <td>0</td>\n",
       "      <td>0</td>\n",
       "      <td>1</td>\n",
       "      <td>0</td>\n",
       "      <td>1</td>\n",
       "      <td>0</td>\n",
       "      <td>1</td>\n",
       "      <td>0</td>\n",
       "      <td>0</td>\n",
       "      <td>1</td>\n",
       "      <td>...</td>\n",
       "      <td>1</td>\n",
       "      <td>0</td>\n",
       "      <td>0.319444</td>\n",
       "      <td>0.7199</td>\n",
       "      <td>0</td>\n",
       "      <td>0</td>\n",
       "      <td>0</td>\n",
       "      <td>0</td>\n",
       "      <td>1</td>\n",
       "      <td>1</td>\n",
       "    </tr>\n",
       "  </tbody>\n",
       "</table>\n",
       "<p>5634 rows × 39 columns</p>\n",
       "</div>"
      ],
      "text/plain": [
       "     0  1  2  3  4  5  6  7  8  9   ... 29 30         31         32 33 34 35  \\\n",
       "0     0  0  1  0  1  0  1  0  0  1  ...  1  0   0.333333   0.743781  0  0  1   \n",
       "1     0  0  1  0  1  0  1  0  0  0  ...  0  0   0.486111   0.667164  1  0  0   \n",
       "2     1  0  0  0  1  0  1  0  0  0  ...  0  1   0.180556   0.561194  1  0  0   \n",
       "3     1  0  0  0  0  1  0  1  0  0  ...  0  1   0.583333  0.0243781  0  0  1   \n",
       "4     0  1  0  1  0  0  1  0  0  1  ...  0  1  0.0555556  0.0597015  1  0  0   \n",
       "...  .. .. .. .. .. .. .. .. .. ..  ... .. ..        ...        ... .. .. ..   \n",
       "5629  1  0  0  0  0  1  0  1  0  0  ...  0  1  0.0833333  0.0144279  0  0  0   \n",
       "5630  0  0  1  1  0  0  0  0  1  0  ...  0  0   0.916667   0.489552  1  0  1   \n",
       "5631  0  0  1  0  1  0  1  0  0  1  ...  0  0   0.916667    0.81393  0  1  1   \n",
       "5632  0  0  1  1  0  0  0  0  1  0  ...  0  0   0.972222   0.714428  0  1  1   \n",
       "5633  0  0  1  0  1  0  1  0  0  1  ...  1  0   0.319444     0.7199  0  0  0   \n",
       "\n",
       "     36 37 38  \n",
       "0     0  1  1  \n",
       "1     0  1  0  \n",
       "2     0  1  1  \n",
       "3     1  1  0  \n",
       "4     0  0  1  \n",
       "...  .. .. ..  \n",
       "5629  1  1  0  \n",
       "5630  1  1  1  \n",
       "5631  0  1  1  \n",
       "5632  0  1  0  \n",
       "5633  0  1  1  \n",
       "\n",
       "[5634 rows x 39 columns]"
      ]
     },
     "execution_count": 28,
     "metadata": {},
     "output_type": "execute_result"
    }
   ],
   "source": [
    "pd.DataFrame(X_prepared)"
   ]
  },
  {
   "cell_type": "markdown",
   "metadata": {},
   "source": [
    "#### 파이프라인 적용 후 feature 확인"
   ]
  },
  {
   "cell_type": "code",
   "execution_count": 29,
   "metadata": {},
   "outputs": [
    {
     "name": "stdout",
     "output_type": "stream",
     "text": [
      "['MultipleLines_No', 'MultipleLines_No phone service', 'MultipleLines_Yes', 'InternetService_DSL', 'InternetService_Fiber optic', 'InternetService_No', 'OnlineSecurity_No', 'OnlineSecurity_No internet service', 'OnlineSecurity_Yes', 'OnlineBackup_No', 'OnlineBackup_No internet service', 'OnlineBackup_Yes', 'DeviceProtection_No', 'DeviceProtection_No internet service', 'DeviceProtection_Yes', 'TechSupport_No', 'TechSupport_No internet service', 'TechSupport_Yes', 'StreamingTV_No', 'StreamingTV_No internet service', 'StreamingTV_Yes', 'StreamingMovies_No', 'StreamingMovies_No internet service', 'StreamingMovies_Yes', 'Contract_Month-to-month', 'Contract_One year', 'Contract_Two year', 'PaymentMethod_Bank transfer (automatic)', 'PaymentMethod_Credit card (automatic)', 'PaymentMethod_Electronic check', 'PaymentMethod_Mailed check']\n",
      "39\n"
     ]
    }
   ],
   "source": [
    "cat_encoder = selector.named_transformers_[\"one_hot\"]\n",
    "\n",
    "cat_one_hot_features = []\n",
    "\n",
    "i = 0\n",
    "for feature in cate_features_not2:\n",
    "    cat_one_hot_features.append([feature+\"_\"+string for string in list(cat_encoder.categories_[i])])    \n",
    "    \n",
    "    i+=1\n",
    "\n",
    "cat_one_hot_features = sum(cat_one_hot_features,[])\n",
    "print(cat_one_hot_features)\n",
    "\n",
    "features = cat_one_hot_features + num_features + cate_features2 \n",
    "print(len(features))"
   ]
  },
  {
   "cell_type": "code",
   "execution_count": 30,
   "metadata": {},
   "outputs": [
    {
     "data": {
      "text/plain": [
       "(5634, 39)"
      ]
     },
     "execution_count": 30,
     "metadata": {},
     "output_type": "execute_result"
    }
   ],
   "source": [
    "X_prepared.shape"
   ]
  },
  {
   "cell_type": "markdown",
   "metadata": {},
   "source": [
    "### 여러 모델 적용하여 비교하기 "
   ]
  },
  {
   "cell_type": "code",
   "execution_count": 31,
   "metadata": {
    "scrolled": false
   },
   "outputs": [
    {
     "name": "stdout",
     "output_type": "stream",
     "text": [
      "Logistic\n",
      "              precision    recall  f1-score   support\n",
      "\n",
      "           0       0.85      0.89      0.87      4139\n",
      "           1       0.65      0.55      0.59      1495\n",
      "\n",
      "    accuracy                           0.80      5634\n",
      "   macro avg       0.75      0.72      0.73      5634\n",
      "weighted avg       0.79      0.80      0.80      5634\n",
      "\n",
      "--------------------------------------\n",
      "RF\n",
      "              precision    recall  f1-score   support\n",
      "\n",
      "           0       0.83      0.89      0.86      4139\n",
      "           1       0.61      0.49      0.54      1495\n",
      "\n",
      "    accuracy                           0.78      5634\n",
      "   macro avg       0.72      0.69      0.70      5634\n",
      "weighted avg       0.77      0.78      0.77      5634\n",
      "\n",
      "--------------------------------------\n",
      "GB\n",
      "              precision    recall  f1-score   support\n",
      "\n",
      "           0       0.84      0.90      0.87      4139\n",
      "           1       0.65      0.53      0.58      1495\n",
      "\n",
      "    accuracy                           0.80      5634\n",
      "   macro avg       0.75      0.71      0.73      5634\n",
      "weighted avg       0.79      0.80      0.79      5634\n",
      "\n",
      "--------------------------------------\n",
      "Ada\n",
      "              precision    recall  f1-score   support\n",
      "\n",
      "           0       0.84      0.90      0.87      4139\n",
      "           1       0.65      0.53      0.58      1495\n",
      "\n",
      "    accuracy                           0.80      5634\n",
      "   macro avg       0.75      0.71      0.73      5634\n",
      "weighted avg       0.79      0.80      0.79      5634\n",
      "\n",
      "--------------------------------------\n",
      "XGB\n",
      "              precision    recall  f1-score   support\n",
      "\n",
      "           0       0.84      0.89      0.86      4139\n",
      "           1       0.62      0.53      0.57      1495\n",
      "\n",
      "    accuracy                           0.79      5634\n",
      "   macro avg       0.73      0.71      0.72      5634\n",
      "weighted avg       0.78      0.79      0.78      5634\n",
      "\n",
      "--------------------------------------\n"
     ]
    }
   ],
   "source": [
    "models = [LogisticRegression(), RandomForestClassifier(), GradientBoostingClassifier(), AdaBoostClassifier(), XGBClassifier()]\n",
    "names = [\"Logistic\",\"RF\",\"GB\",\"Ada\",\"XGB\"]\n",
    "\n",
    "from sklearn.model_selection import StratifiedKFold\n",
    "cv_mo = StratifiedKFold(n_splits = 10, shuffle = True, random_state = 20171490)\n",
    "\n",
    "for model, name in zip(models, names):\n",
    "    print(name)\n",
    "    start = time.time()\n",
    "    cv_predict = cross_val_predict(model, X_prepared, y_train,cv=cv_mo)\n",
    "\n",
    "    print(classification_report(y_train, cv_predict))\n",
    "    print(\"--------------------------------------\")"
   ]
  },
  {
   "cell_type": "markdown",
   "metadata": {},
   "source": [
    "AdaBoost와 Logistic의 성능이 가장 좋음"
   ]
  },
  {
   "cell_type": "markdown",
   "metadata": {},
   "source": [
    "#### 랜덤포레스트기로 중요 변수 확인"
   ]
  },
  {
   "cell_type": "code",
   "execution_count": 32,
   "metadata": {},
   "outputs": [
    {
     "data": {
      "text/html": [
       "<div>\n",
       "<style scoped>\n",
       "    .dataframe tbody tr th:only-of-type {\n",
       "        vertical-align: middle;\n",
       "    }\n",
       "\n",
       "    .dataframe tbody tr th {\n",
       "        vertical-align: top;\n",
       "    }\n",
       "\n",
       "    .dataframe thead th {\n",
       "        text-align: right;\n",
       "    }\n",
       "</style>\n",
       "<table border=\"1\" class=\"dataframe\">\n",
       "  <thead>\n",
       "    <tr style=\"text-align: right;\">\n",
       "      <th></th>\n",
       "      <th>importance</th>\n",
       "    </tr>\n",
       "  </thead>\n",
       "  <tbody>\n",
       "    <tr>\n",
       "      <th>tenure</th>\n",
       "      <td>0.207441</td>\n",
       "    </tr>\n",
       "    <tr>\n",
       "      <th>MonthlyCharges</th>\n",
       "      <td>0.201000</td>\n",
       "    </tr>\n",
       "    <tr>\n",
       "      <th>Contract_Month-to-month</th>\n",
       "      <td>0.060925</td>\n",
       "    </tr>\n",
       "    <tr>\n",
       "      <th>OnlineSecurity_No</th>\n",
       "      <td>0.034036</td>\n",
       "    </tr>\n",
       "    <tr>\n",
       "      <th>gender</th>\n",
       "      <td>0.033720</td>\n",
       "    </tr>\n",
       "    <tr>\n",
       "      <th>InternetService_Fiber optic</th>\n",
       "      <td>0.033041</td>\n",
       "    </tr>\n",
       "    <tr>\n",
       "      <th>Partner</th>\n",
       "      <td>0.027970</td>\n",
       "    </tr>\n",
       "    <tr>\n",
       "      <th>PaperlessBilling</th>\n",
       "      <td>0.027919</td>\n",
       "    </tr>\n",
       "    <tr>\n",
       "      <th>TechSupport_No</th>\n",
       "      <td>0.026773</td>\n",
       "    </tr>\n",
       "    <tr>\n",
       "      <th>PaymentMethod_Electronic check</th>\n",
       "      <td>0.026260</td>\n",
       "    </tr>\n",
       "  </tbody>\n",
       "</table>\n",
       "</div>"
      ],
      "text/plain": [
       "                                importance\n",
       "tenure                            0.207441\n",
       "MonthlyCharges                    0.201000\n",
       "Contract_Month-to-month           0.060925\n",
       "OnlineSecurity_No                 0.034036\n",
       "gender                            0.033720\n",
       "InternetService_Fiber optic       0.033041\n",
       "Partner                           0.027970\n",
       "PaperlessBilling                  0.027919\n",
       "TechSupport_No                    0.026773\n",
       "PaymentMethod_Electronic check    0.026260"
      ]
     },
     "execution_count": 32,
     "metadata": {},
     "output_type": "execute_result"
    }
   ],
   "source": [
    "feature_importances = pd.DataFrame(RandomForestClassifier().fit(X_prepared,y_train).feature_importances_,index = features,columns=['importance']).sort_values('importance',ascending=False)\n",
    "feature_importances = feature_importances.head(10)\n",
    "feature_importances"
   ]
  },
  {
   "cell_type": "code",
   "execution_count": 37,
   "metadata": {},
   "outputs": [
    {
     "data": {
      "text/plain": [
       "<AxesSubplot:xlabel='importance'>"
      ]
     },
     "execution_count": 37,
     "metadata": {},
     "output_type": "execute_result"
    },
    {
     "data": {
      "image/png": "[encoded data removed]",
      "text/plain": [
       "<Figure size 432x288 with 1 Axes>"
      ]
     },
     "metadata": {
      "needs_background": "light"
     },
     "output_type": "display_data"
    }
   ],
   "source": [
    "sns.barplot(feature_importances[\"importance\"],feature_importances.index)"
   ]
  },
  {
   "cell_type": "markdown",
   "metadata": {},
   "source": [
    "#### 보조 서비스 가입 개수 변수 추가하기\n",
    "보조서비스 종류: OnlineSecurity, OnlineBackup, DeviceProtection, TechSupport   \n",
    "스트리밍: StreamingTV, StreamingMovies"
   ]
  },
  {
   "cell_type": "code",
   "execution_count": 38,
   "metadata": {},
   "outputs": [
    {
     "data": {
      "text/plain": [
       "No                     2786\n",
       "Yes                    1626\n",
       "No internet service    1222\n",
       "Name: OnlineSecurity, dtype: int64"
      ]
     },
     "execution_count": 38,
     "metadata": {},
     "output_type": "execute_result"
    }
   ],
   "source": [
    "data_train[\"OnlineSecurity\"].value_counts()"
   ]
  },
  {
   "cell_type": "code",
   "execution_count": 39,
   "metadata": {},
   "outputs": [],
   "source": [
    "df_new = data_train[[\"OnlineSecurity\",\"OnlineBackup\",\"DeviceProtection\",\"TechSupport\",\"StreamingTV\",\"StreamingMovies\"]]"
   ]
  },
  {
   "cell_type": "code",
   "execution_count": 40,
   "metadata": {},
   "outputs": [],
   "source": [
    "df_new.replace(\"Yes\",1,inplace = True)\n",
    "df_new.replace(\"No\",0, inplace = True)\n",
    "df_new.replace(\"No internet service\",0, inplace = True)"
   ]
  },
  {
   "cell_type": "code",
   "execution_count": 41,
   "metadata": {},
   "outputs": [
    {
     "data": {
      "text/html": [
       "<div>\n",
       "<style scoped>\n",
       "    .dataframe tbody tr th:only-of-type {\n",
       "        vertical-align: middle;\n",
       "    }\n",
       "\n",
       "    .dataframe tbody tr th {\n",
       "        vertical-align: top;\n",
       "    }\n",
       "\n",
       "    .dataframe thead th {\n",
       "        text-align: right;\n",
       "    }\n",
       "</style>\n",
       "<table border=\"1\" class=\"dataframe\">\n",
       "  <thead>\n",
       "    <tr style=\"text-align: right;\">\n",
       "      <th></th>\n",
       "      <th>OnlineSecurity</th>\n",
       "      <th>OnlineBackup</th>\n",
       "      <th>DeviceProtection</th>\n",
       "      <th>TechSupport</th>\n",
       "      <th>StreamingTV</th>\n",
       "      <th>StreamingMovies</th>\n",
       "    </tr>\n",
       "  </thead>\n",
       "  <tbody>\n",
       "    <tr>\n",
       "      <th>5658</th>\n",
       "      <td>0</td>\n",
       "      <td>0</td>\n",
       "      <td>0</td>\n",
       "      <td>0</td>\n",
       "      <td>1</td>\n",
       "      <td>1</td>\n",
       "    </tr>\n",
       "    <tr>\n",
       "      <th>995</th>\n",
       "      <td>0</td>\n",
       "      <td>1</td>\n",
       "      <td>0</td>\n",
       "      <td>1</td>\n",
       "      <td>0</td>\n",
       "      <td>0</td>\n",
       "    </tr>\n",
       "    <tr>\n",
       "      <th>2778</th>\n",
       "      <td>0</td>\n",
       "      <td>1</td>\n",
       "      <td>0</td>\n",
       "      <td>0</td>\n",
       "      <td>0</td>\n",
       "      <td>0</td>\n",
       "    </tr>\n",
       "    <tr>\n",
       "      <th>2675</th>\n",
       "      <td>0</td>\n",
       "      <td>0</td>\n",
       "      <td>0</td>\n",
       "      <td>0</td>\n",
       "      <td>0</td>\n",
       "      <td>0</td>\n",
       "    </tr>\n",
       "    <tr>\n",
       "      <th>660</th>\n",
       "      <td>0</td>\n",
       "      <td>0</td>\n",
       "      <td>0</td>\n",
       "      <td>0</td>\n",
       "      <td>0</td>\n",
       "      <td>0</td>\n",
       "    </tr>\n",
       "  </tbody>\n",
       "</table>\n",
       "</div>"
      ],
      "text/plain": [
       "      OnlineSecurity  OnlineBackup  DeviceProtection  TechSupport  \\\n",
       "5658               0             0                 0            0   \n",
       "995                0             1                 0            1   \n",
       "2778               0             1                 0            0   \n",
       "2675               0             0                 0            0   \n",
       "660                0             0                 0            0   \n",
       "\n",
       "      StreamingTV  StreamingMovies  \n",
       "5658            1                1  \n",
       "995             0                0  \n",
       "2778            0                0  \n",
       "2675            0                0  \n",
       "660             0                0  "
      ]
     },
     "execution_count": 41,
     "metadata": {},
     "output_type": "execute_result"
    }
   ],
   "source": [
    "df_new.head()"
   ]
  },
  {
   "cell_type": "code",
   "execution_count": 42,
   "metadata": {},
   "outputs": [
    {
     "name": "stdout",
     "output_type": "stream",
     "text": [
      "<class 'pandas.core.frame.DataFrame'>\n",
      "Int64Index: 5634 entries, 5658 to 1059\n",
      "Data columns (total 6 columns):\n",
      " #   Column            Non-Null Count  Dtype\n",
      "---  ------            --------------  -----\n",
      " 0   OnlineSecurity    5634 non-null   int64\n",
      " 1   OnlineBackup      5634 non-null   int64\n",
      " 2   DeviceProtection  5634 non-null   int64\n",
      " 3   TechSupport       5634 non-null   int64\n",
      " 4   StreamingTV       5634 non-null   int64\n",
      " 5   StreamingMovies   5634 non-null   int64\n",
      "dtypes: int64(6)\n",
      "memory usage: 308.1 KB\n"
     ]
    }
   ],
   "source": [
    "df_new.info()"
   ]
  },
  {
   "cell_type": "code",
   "execution_count": 43,
   "metadata": {},
   "outputs": [],
   "source": [
    "data_train[\"supplementarty_service\"] = df_new[\"OnlineSecurity\"]+df_new[\"OnlineBackup\"]+df_new[\"DeviceProtection\"]+df_new[\"TechSupport\"]\n",
    "data_train[\"Streaming\"] = df_new[\"StreamingTV\"]+df_new[\"StreamingMovies\"]"
   ]
  },
  {
   "cell_type": "code",
   "execution_count": 44,
   "metadata": {},
   "outputs": [
    {
     "data": {
      "text/plain": [
       "Index(['gender', 'SeniorCitizen', 'Partner', 'Dependents', 'tenure',\n",
       "       'PhoneService', 'MultipleLines', 'InternetService', 'Contract',\n",
       "       'PaperlessBilling', 'PaymentMethod', 'MonthlyCharges',\n",
       "       'supplementarty_service', 'Streaming'],\n",
       "      dtype='object')"
      ]
     },
     "execution_count": 44,
     "metadata": {},
     "output_type": "execute_result"
    }
   ],
   "source": [
    "data_train = data_train.drop([\"OnlineSecurity\",\"OnlineBackup\",\"DeviceProtection\",\"TechSupport\",\"StreamingTV\",\"StreamingMovies\"],axis=1)\n",
    "data_train.columns"
   ]
  },
  {
   "cell_type": "code",
   "execution_count": 45,
   "metadata": {},
   "outputs": [],
   "source": [
    "num_features_extract = num_features+[\"supplementarty_service\",\"Streaming\"]\n",
    "# num_features_extract = num_features+[\"supplementarty_service\"]"
   ]
  },
  {
   "cell_type": "code",
   "execution_count": 46,
   "metadata": {},
   "outputs": [
    {
     "data": {
      "text/plain": [
       "['gender',\n",
       " 'SeniorCitizen',\n",
       " 'Partner',\n",
       " 'Dependents',\n",
       " 'PhoneService',\n",
       " 'PaperlessBilling']"
      ]
     },
     "execution_count": 46,
     "metadata": {},
     "output_type": "execute_result"
    }
   ],
   "source": [
    "cate_features2"
   ]
  },
  {
   "cell_type": "code",
   "execution_count": 47,
   "metadata": {},
   "outputs": [],
   "source": [
    "cate_features_extract = [\"MultipleLines\",\"InternetService\",\"Contract\",\"PaymentMethod\"]"
   ]
  },
  {
   "cell_type": "code",
   "execution_count": 48,
   "metadata": {},
   "outputs": [
    {
     "name": "stdout",
     "output_type": "stream",
     "text": [
      "['tenure', 'MonthlyCharges', 'supplementarty_service', 'Streaming']\n",
      "['MultipleLines', 'InternetService', 'Contract', 'PaymentMethod']\n"
     ]
    }
   ],
   "source": [
    "print(num_features_extract)\n",
    "print(cate_features_extract)"
   ]
  },
  {
   "cell_type": "code",
   "execution_count": 49,
   "metadata": {},
   "outputs": [],
   "source": [
    "selector = ColumnTransformer([\n",
    "    ('one_hot', OneHotEncoder(), cate_features_extract),  # 나열되지 않은 나머지 열은 삭제됨. \n",
    "    ('scaler', scaler_pipeline, num_features_extract)\n",
    "],remainder=\"passthrough\")\n",
    "\n",
    "X_prepared = selector.fit_transform(data_train)"
   ]
  },
  {
   "cell_type": "code",
   "execution_count": 50,
   "metadata": {},
   "outputs": [
    {
     "data": {
      "text/plain": [
       "(5634, 23)"
      ]
     },
     "execution_count": 50,
     "metadata": {},
     "output_type": "execute_result"
    }
   ],
   "source": [
    "X_prepared.shape"
   ]
  },
  {
   "cell_type": "code",
   "execution_count": 51,
   "metadata": {
    "scrolled": false
   },
   "outputs": [
    {
     "name": "stdout",
     "output_type": "stream",
     "text": [
      "Logistic\n",
      "              precision    recall  f1-score   support\n",
      "\n",
      "           0       0.85      0.90      0.87      4139\n",
      "           1       0.66      0.55      0.60      1495\n",
      "\n",
      "    accuracy                           0.81      5634\n",
      "   macro avg       0.75      0.73      0.74      5634\n",
      "weighted avg       0.80      0.81      0.80      5634\n",
      "\n",
      "--------------------------------------\n",
      "RF\n",
      "              precision    recall  f1-score   support\n",
      "\n",
      "           0       0.83      0.92      0.87      4139\n",
      "           1       0.68      0.47      0.55      1495\n",
      "\n",
      "    accuracy                           0.80      5634\n",
      "   macro avg       0.75      0.69      0.71      5634\n",
      "weighted avg       0.79      0.80      0.79      5634\n",
      "\n",
      "--------------------------------------\n",
      "GB\n",
      "              precision    recall  f1-score   support\n",
      "\n",
      "           0       0.84      0.90      0.87      4139\n",
      "           1       0.65      0.53      0.58      1495\n",
      "\n",
      "    accuracy                           0.80      5634\n",
      "   macro avg       0.74      0.71      0.73      5634\n",
      "weighted avg       0.79      0.80      0.79      5634\n",
      "\n",
      "--------------------------------------\n",
      "Ada\n",
      "              precision    recall  f1-score   support\n",
      "\n",
      "           0       0.84      0.90      0.87      4139\n",
      "           1       0.65      0.53      0.58      1495\n",
      "\n",
      "    accuracy                           0.80      5634\n",
      "   macro avg       0.75      0.71      0.73      5634\n",
      "weighted avg       0.79      0.80      0.79      5634\n",
      "\n",
      "--------------------------------------\n",
      "XGB\n",
      "              precision    recall  f1-score   support\n",
      "\n",
      "           0       0.84      0.88      0.86      4139\n",
      "           1       0.61      0.52      0.56      1495\n",
      "\n",
      "    accuracy                           0.78      5634\n",
      "   macro avg       0.72      0.70      0.71      5634\n",
      "weighted avg       0.77      0.78      0.78      5634\n",
      "\n",
      "--------------------------------------\n"
     ]
    }
   ],
   "source": [
    "models = [LogisticRegression(), RandomForestClassifier(n_estimators = 500, max_leaf_nodes = 16, n_jobs = -1), GradientBoostingClassifier(), AdaBoostClassifier(), XGBClassifier()]\n",
    "names = [\"Logistic\",\"RF\",\"GB\",\"Ada\",\"XGB\"]\n",
    "\n",
    "cv_mo = StratifiedKFold(n_splits = 10, shuffle = True, random_state = 20171490)\n",
    "\n",
    "for model, name in zip(models, names):\n",
    "    print(name)\n",
    "    start = time.time()\n",
    "    \n",
    "    # method{'predict’,'predict_proba’, 'predict_log_proba’, 'decision_function'}, default=’predict’\n",
    "    cv_predict = cross_val_predict(model, X_prepared, y_train,cv=cv_mo)\n",
    "\n",
    "    print(classification_report(y_train, cv_predict))\n",
    "    print(\"--------------------------------------\")"
   ]
  },
  {
   "cell_type": "code",
   "execution_count": 52,
   "metadata": {},
   "outputs": [
    {
     "data": {
      "text/plain": [
       "['MultipleLines', 'InternetService', 'Contract', 'PaymentMethod']"
      ]
     },
     "execution_count": 52,
     "metadata": {},
     "output_type": "execute_result"
    }
   ],
   "source": [
    "cate_features_extract"
   ]
  },
  {
   "cell_type": "code",
   "execution_count": 53,
   "metadata": {},
   "outputs": [
    {
     "name": "stdout",
     "output_type": "stream",
     "text": [
      "['MultipleLines_No', 'MultipleLines_No phone service', 'MultipleLines_Yes', 'InternetService_DSL', 'InternetService_Fiber optic', 'InternetService_No', 'Contract_Month-to-month', 'Contract_One year', 'Contract_Two year', 'PaymentMethod_Bank transfer (automatic)', 'PaymentMethod_Credit card (automatic)', 'PaymentMethod_Electronic check', 'PaymentMethod_Mailed check']\n",
      "['MultipleLines_No', 'MultipleLines_No phone service', 'MultipleLines_Yes', 'InternetService_DSL', 'InternetService_Fiber optic', 'InternetService_No', 'Contract_Month-to-month', 'Contract_One year', 'Contract_Two year', 'PaymentMethod_Bank transfer (automatic)', 'PaymentMethod_Credit card (automatic)', 'PaymentMethod_Electronic check', 'PaymentMethod_Mailed check', 'tenure', 'MonthlyCharges', 'supplementarty_service', 'Streaming', 'gender', 'SeniorCitizen', 'Partner', 'Dependents', 'PhoneService', 'PaperlessBilling']\n",
      "23\n"
     ]
    }
   ],
   "source": [
    "cat_encoder = selector.named_transformers_[\"one_hot\"]\n",
    "\n",
    "cat_one_hot_features = []\n",
    "\n",
    "i = 0\n",
    "for feature in cate_features_extract:\n",
    "    cat_one_hot_features.append([feature+\"_\"+string for string in list(cat_encoder.categories_[i])])    \n",
    "    \n",
    "    i+=1\n",
    "\n",
    "cat_one_hot_features = sum(cat_one_hot_features,[])\n",
    "print(cat_one_hot_features)\n",
    "\n",
    "features = cat_one_hot_features + num_features_extract + cate_features2 \n",
    "print(features)\n",
    "print(len(features))"
   ]
  },
  {
   "cell_type": "code",
   "execution_count": 54,
   "metadata": {},
   "outputs": [
    {
     "data": {
      "text/html": [
       "<div>\n",
       "<style scoped>\n",
       "    .dataframe tbody tr th:only-of-type {\n",
       "        vertical-align: middle;\n",
       "    }\n",
       "\n",
       "    .dataframe tbody tr th {\n",
       "        vertical-align: top;\n",
       "    }\n",
       "\n",
       "    .dataframe thead th {\n",
       "        text-align: right;\n",
       "    }\n",
       "</style>\n",
       "<table border=\"1\" class=\"dataframe\">\n",
       "  <thead>\n",
       "    <tr style=\"text-align: right;\">\n",
       "      <th></th>\n",
       "      <th>importance</th>\n",
       "    </tr>\n",
       "  </thead>\n",
       "  <tbody>\n",
       "    <tr>\n",
       "      <th>MonthlyCharges</th>\n",
       "      <td>0.246296</td>\n",
       "    </tr>\n",
       "    <tr>\n",
       "      <th>tenure</th>\n",
       "      <td>0.239657</td>\n",
       "    </tr>\n",
       "    <tr>\n",
       "      <th>Contract_Month-to-month</th>\n",
       "      <td>0.067602</td>\n",
       "    </tr>\n",
       "    <tr>\n",
       "      <th>supplementarty_service</th>\n",
       "      <td>0.064340</td>\n",
       "    </tr>\n",
       "    <tr>\n",
       "      <th>InternetService_Fiber optic</th>\n",
       "      <td>0.039167</td>\n",
       "    </tr>\n",
       "    <tr>\n",
       "      <th>Streaming</th>\n",
       "      <td>0.034963</td>\n",
       "    </tr>\n",
       "    <tr>\n",
       "      <th>gender</th>\n",
       "      <td>0.033864</td>\n",
       "    </tr>\n",
       "    <tr>\n",
       "      <th>PaymentMethod_Electronic check</th>\n",
       "      <td>0.031942</td>\n",
       "    </tr>\n",
       "    <tr>\n",
       "      <th>PaperlessBilling</th>\n",
       "      <td>0.030779</td>\n",
       "    </tr>\n",
       "    <tr>\n",
       "      <th>Partner</th>\n",
       "      <td>0.028719</td>\n",
       "    </tr>\n",
       "  </tbody>\n",
       "</table>\n",
       "</div>"
      ],
      "text/plain": [
       "                                importance\n",
       "MonthlyCharges                    0.246296\n",
       "tenure                            0.239657\n",
       "Contract_Month-to-month           0.067602\n",
       "supplementarty_service            0.064340\n",
       "InternetService_Fiber optic       0.039167\n",
       "Streaming                         0.034963\n",
       "gender                            0.033864\n",
       "PaymentMethod_Electronic check    0.031942\n",
       "PaperlessBilling                  0.030779\n",
       "Partner                           0.028719"
      ]
     },
     "execution_count": 54,
     "metadata": {},
     "output_type": "execute_result"
    }
   ],
   "source": [
    "feature_importances = pd.DataFrame(RandomForestClassifier().fit(X_prepared,y_train).feature_importances_,index = features,columns=['importance']).sort_values('importance',ascending=False)\n",
    "feature_importances = feature_importances.head(10)\n",
    "feature_importances"
   ]
  },
  {
   "cell_type": "code",
   "execution_count": 55,
   "metadata": {},
   "outputs": [
    {
     "data": {
      "image/png": "[encoded data removed]",
      "text/plain": [
       "<Figure size 432x288 with 1 Axes>"
      ]
     },
     "metadata": {
      "needs_background": "light"
     },
     "output_type": "display_data"
    }
   ],
   "source": [
    "bar = sns.barplot(feature_importances[\"importance\"],feature_importances.index)"
   ]
  },
  {
   "cell_type": "code",
   "execution_count": 232,
   "metadata": {},
   "outputs": [
    {
     "name": "stdout",
     "output_type": "stream",
     "text": [
      "LogisticRegression(C=1.5, solver='saga', tol=0.01)\n"
     ]
    }
   ],
   "source": [
    "from sklearn.model_selection import GridSearchCV\n",
    "\n",
    "param_grid_logistic = {\n",
    "    \"C\":[0.25,0.5,0.75,1.0,1.5,2.0],\n",
    "    \"solver\":[\"lbfgs\", \"sag\", \"saga\"],\n",
    "    \"tol\":[0.01,0.001],\n",
    "    \"penalty\":[\"l1\",\"l2\"]}\n",
    "\n",
    "cv_logistic = GridSearchCV(LogisticRegression(),param_grid_logistic, cv= cv_mo, scoring = \"recall\")\n",
    "cv_logistic.fit(X_prepared, y_train)  # grid search 모델 \n",
    "cv_logistic_best = cv_logistic.best_estimator_  # 가장 좋은 파라미터\n",
    "print(cv_logistic_best)"
   ]
  },
  {
   "cell_type": "code",
   "execution_count": 233,
   "metadata": {},
   "outputs": [
    {
     "data": {
      "text/plain": [
       "0.5591973244147157"
      ]
     },
     "execution_count": 233,
     "metadata": {},
     "output_type": "execute_result"
    }
   ],
   "source": [
    "cv_logistic.score(X_prepared, y_train)"
   ]
  },
  {
   "cell_type": "code",
   "execution_count": 234,
   "metadata": {},
   "outputs": [
    {
     "name": "stdout",
     "output_type": "stream",
     "text": [
      "              precision    recall  f1-score   support\n",
      "\n",
      "           0       0.85      0.90      0.87      4139\n",
      "           1       0.66      0.55      0.60      1495\n",
      "\n",
      "    accuracy                           0.80      5634\n",
      "   macro avg       0.75      0.72      0.74      5634\n",
      "weighted avg       0.80      0.80      0.80      5634\n",
      "\n"
     ]
    }
   ],
   "source": [
    "cv_predict = cross_val_predict(cv_logistic, X_prepared, y_train,cv=cv_mo)\n",
    "print(classification_report(y_train, cv_predict))"
   ]
  },
  {
   "cell_type": "code",
   "execution_count": null,
   "metadata": {},
   "outputs": [],
   "source": [
    "\n",
    "param_grid_logistic = {\n",
    "    \"C\":[0.25,0.5,0.75,1.0,1.5,2.0],\n",
    "    \"solver\":[\"lbfgs\", \"sag\", \"saga\"],\n",
    "    \"tol\":[0.01,0.001],\n",
    "    \"penalty\":[\"l1\",\"l2\"]}\n",
    "\n",
    "cv_logistic = GridSearchCV(LogisticRegression(),param_grid_logistic, cv= cv_mo, scoring = \"roc_auc\")\n",
    "cv_logistic.fit(X_prepared, y_train)  # grid search 모델 \n",
    "cv_logistic_best = cv_logistic.best_estimator_  # 가장 좋은 파라미터\n",
    "print(cv_logistic_best)"
   ]
  },
  {
   "cell_type": "code",
   "execution_count": null,
   "metadata": {},
   "outputs": [],
   "source": [
    "cv_logistic.score(X_prepared, y_train)"
   ]
  },
  {
   "cell_type": "code",
   "execution_count": null,
   "metadata": {},
   "outputs": [],
   "source": [
    "print(confusion_matrix(y_train,cv_logistic.predict(X_prepared)))\n",
    "print(classification_report(y_train,cv_logistic.predict(X_prepared)))"
   ]
  },
  {
   "cell_type": "code",
   "execution_count": null,
   "metadata": {},
   "outputs": [],
   "source": [
    "from sklearn.metrics import recall_score, make_scorer\n",
    "\n",
    "custom_scorer = make_scorer(precision_score, greater_is_better=True,  pos_label=1)\n",
    "cv_logistic = GridSearchCV(LogisticRegression(),param_grid_logistic, cv= cv_mo, scoring = custom_scorer)\n",
    "cv_logistic.fit(X_prepared, y_train)  # grid search 모델 \n",
    "cv_logistic_best = cv_logistic.best_estimator_  # 가장 좋은 파라미터\n",
    "print(cv_logistic_best)"
   ]
  },
  {
   "cell_type": "code",
   "execution_count": null,
   "metadata": {},
   "outputs": [],
   "source": [
    "pd.DataFrame(cv_logistic.cv_results_)[\"mean_test_score\"].sort_values(ascending =True)"
   ]
  },
  {
   "cell_type": "code",
   "execution_count": null,
   "metadata": {},
   "outputs": [],
   "source": [
    "print(confusion_matrix(y_train,cv_logistic.predict(X_prepared)))\n",
    "print(classification_report(y_train,cv_logistic.predict(X_prepared)))"
   ]
  },
  {
   "cell_type": "code",
   "execution_count": null,
   "metadata": {},
   "outputs": [],
   "source": [
    "pred = cross_val_predict(cv_logistic_best,X_prepared,y_train,cv = cv_mo)\n",
    "print(classification_report(y_train,cv_logistic.predict(X_prepared)))"
   ]
  },
  {
   "cell_type": "code",
   "execution_count": 62,
   "metadata": {},
   "outputs": [
    {
     "name": "stdout",
     "output_type": "stream",
     "text": [
      "0.9070812671052174\n",
      "[[3242  208]\n",
      " [ 897 1287]]\n",
      "              precision    recall  f1-score   support\n",
      "\n",
      "           0       0.78      0.94      0.85      3450\n",
      "           1       0.86      0.59      0.70      2184\n",
      "\n",
      "    accuracy                           0.80      5634\n",
      "   macro avg       0.82      0.76      0.78      5634\n",
      "weighted avg       0.81      0.80      0.79      5634\n",
      "\n"
     ]
    }
   ],
   "source": [
    "param_grid_RF = {\n",
    "    \"n_estimators\" :[10,15,20,25,30], \n",
    "    \"criterion\": [\"entropy\",\"gini\"],\n",
    "    \"max_depth\" : [5,10,15],\n",
    "    \"min_samples_split\":[2,4,8,16],\n",
    "    \"max_features\":[\"sqrt\",\"auto\",\"log2\"],\n",
    "    \"class_weight\" : [\"balanced_subsample\",\"balanced\"]}\n",
    "\n",
    "cv_RF_roc = GridSearchCV(RandomForestClassifier(),param_grid_RF, cv= cv_mo, scoring = \"roc_auc\")\n",
    "cv_RF_roc.fit(X_prepared, y_train)\n",
    "cv_RF_best = cv_RF_roc.best_estimator_\n",
    "\n",
    "print(cv_RF.score(X_prepared, y_train))\n",
    "print(confusion_matrix(cv_RF.predict(X_prepared),y_train))\n",
    "print(classification_report(cv_RF.predict(X_prepared),y_train))"
   ]
  },
  {
   "cell_type": "code",
   "execution_count": 157,
   "metadata": {},
   "outputs": [
    {
     "data": {
      "text/plain": [
       "RandomForestClassifier(class_weight='balanced_subsample', criterion='entropy',\n",
       "                       max_depth=10, max_features='sqrt', min_samples_split=16,\n",
       "                       n_estimators=30)"
      ]
     },
     "execution_count": 157,
     "metadata": {},
     "output_type": "execute_result"
    }
   ],
   "source": [
    "cv_RF_best"
   ]
  },
  {
   "cell_type": "code",
   "execution_count": 63,
   "metadata": {},
   "outputs": [
    {
     "name": "stdout",
     "output_type": "stream",
     "text": [
      "[[3468  105]\n",
      " [ 671 1390]]\n",
      "              precision    recall  f1-score   support\n",
      "\n",
      "           0       0.84      0.97      0.90      3573\n",
      "           1       0.93      0.67      0.78      2061\n",
      "\n",
      "    accuracy                           0.86      5634\n",
      "   macro avg       0.88      0.82      0.84      5634\n",
      "weighted avg       0.87      0.86      0.86      5634\n",
      "\n"
     ]
    }
   ],
   "source": [
    "model_Ada = AdaBoostClassifier(base_estimator = cv_RF_best, n_estimators = 4)\n",
    "model_Ada.fit(X_prepared, y_train)\n",
    "print(confusion_matrix(model_Ada.predict(X_prepared),y_train))\n",
    "print(classification_report(model_Ada.predict(X_prepared),y_train))"
   ]
  },
  {
   "cell_type": "code",
   "execution_count": 64,
   "metadata": {
    "scrolled": true
   },
   "outputs": [],
   "source": [
    "param_XGB = {\"max_depth\" : [3,4,5,6,7],\n",
    "    \"learning_rate\" : [0.01, 0.05, 0.001],\n",
    "    \"booster\" : [\"gbtree\",\"gblinear\",\"dart\"],\n",
    "    \"min_child_weight\" : [1,3,5,7,9,11],\n",
    "    \"scale_pos_weight\":[1,3,5]}\n",
    "\n",
    "cv_xgb = GridSearchCV(XGBClassifier(),param_XGB, cv= cv_mo, scoring = \"recall\")\n",
    "cv_xgb.fit(X_prepared, y_train)\n",
    "cv_xgb_best_recall = cv_xgb.best_estimator_"
   ]
  },
  {
   "cell_type": "code",
   "execution_count": 65,
   "metadata": {},
   "outputs": [
    {
     "name": "stdout",
     "output_type": "stream",
     "text": [
      "0.9926421404682274\n",
      "[[ 921   11]\n",
      " [3218 1484]]\n",
      "              precision    recall  f1-score   support\n",
      "\n",
      "           0       0.22      0.99      0.36       932\n",
      "           1       0.99      0.32      0.48      4702\n",
      "\n",
      "    accuracy                           0.43      5634\n",
      "   macro avg       0.61      0.65      0.42      5634\n",
      "weighted avg       0.87      0.43      0.46      5634\n",
      "\n"
     ]
    }
   ],
   "source": [
    "print(cv_xgb.score(X_prepared, y_train))\n",
    "print(confusion_matrix(y_train,cv_xgb.predict(X_prepared)))\n",
    "print(classification_report(y_train,cv_xgb.predict(X_prepared)))"
   ]
  },
  {
   "cell_type": "code",
   "execution_count": 66,
   "metadata": {},
   "outputs": [
    {
     "name": "stdout",
     "output_type": "stream",
     "text": [
      "0.86505731838673\n",
      "[[3769  689]\n",
      " [ 370  806]]\n",
      "              precision    recall  f1-score   support\n",
      "\n",
      "           0       0.91      0.85      0.88      4458\n",
      "           1       0.54      0.69      0.60      1176\n",
      "\n",
      "    accuracy                           0.81      5634\n",
      "   macro avg       0.72      0.77      0.74      5634\n",
      "weighted avg       0.83      0.81      0.82      5634\n",
      "\n"
     ]
    }
   ],
   "source": [
    "param_XGB = {\"max_depth\" : [3,4,5,6,7],\n",
    "    \"learning_rate\" : [0.01, 0.05, 0.001],\n",
    "    \"booster\" : [\"gbtree\",\"gblinear\",\"dart\"],\n",
    "    \"min_child_weight\" : [1,3,5,7,9,11],\n",
    "    \"scale_pos_weight\":[1,3,5]}\n",
    "\n",
    "xgb_model = xgb.XGBClassifier(objective = \"binary:logistic\")\n",
    "\n",
    "cv_xgb = GridSearchCV(xgb_model,param_XGB, cv= cv_mo, scoring = \"roc_auc\")\n",
    "cv_xgb.fit(X_prepared, y_train)\n",
    "cv_xgb_best_roc = cv_xgb.best_estimator_\n",
    "\n",
    "print(cv_xgb.score(X_prepared, y_train))\n",
    "print(confusion_matrix(y_train,cv_xgb.predict(X_prepared)))\n",
    "print(classification_report(y_train,cv_xgb.predict(X_prepared)))"
   ]
  },
  {
   "cell_type": "markdown",
   "metadata": {},
   "source": [
    "xgb 0.69로 가장 높음."
   ]
  },
  {
   "cell_type": "code",
   "execution_count": 193,
   "metadata": {},
   "outputs": [],
   "source": [
    "# Dictionary of best parameters\n",
    "best_pars = cv_xgb.best_params_\n",
    "# Best XGB model that was found based on the metric score you specify\n",
    "best_model = cv_xgb.best_estimator_\n",
    "\n",
    "import pickle\n",
    "# Save model\n",
    "pickle.dump(cv_xgb.best_estimator_, open(\"xgb_clf.pickle\", \"wb\"))"
   ]
  },
  {
   "cell_type": "code",
   "execution_count": 203,
   "metadata": {},
   "outputs": [],
   "source": [
    "from sklearn.metrics import precision_recall_curve\n",
    "\n",
    "best_model.fit(X_prepared,y_train)\n",
    "pred = best_model.predict(X_prepared)"
   ]
  },
  {
   "cell_type": "code",
   "execution_count": 205,
   "metadata": {},
   "outputs": [],
   "source": [
    "cv_predict_best = cross_val_predict(best_model, X_prepared, y_train,cv=cv_mo)"
   ]
  },
  {
   "cell_type": "code",
   "execution_count": 212,
   "metadata": {},
   "outputs": [
    {
     "name": "stdout",
     "output_type": "stream",
     "text": [
      "[[3739  400]\n",
      " [ 713  782]]\n"
     ]
    }
   ],
   "source": [
    "print(confusion_matrix(y_train,cv_predict_best))"
   ]
  },
  {
   "cell_type": "code",
   "execution_count": 209,
   "metadata": {},
   "outputs": [
    {
     "name": "stdout",
     "output_type": "stream",
     "text": [
      "              precision    recall  f1-score   support\n",
      "\n",
      "           0       0.84      0.90      0.87      4139\n",
      "           1       0.66      0.52      0.58      1495\n",
      "\n",
      "    accuracy                           0.80      5634\n",
      "   macro avg       0.75      0.71      0.73      5634\n",
      "weighted avg       0.79      0.80      0.79      5634\n",
      "\n"
     ]
    }
   ],
   "source": [
    "print(classification_report(y_train,cv_predict_best))"
   ]
  },
  {
   "cell_type": "code",
   "execution_count": null,
   "metadata": {},
   "outputs": [],
   "source": [
    "print(classification_report(y_train, model_xgb.predict(X_prepared)))"
   ]
  },
  {
   "cell_type": "code",
   "execution_count": 172,
   "metadata": {},
   "outputs": [],
   "source": [
    "from sklearn.metrics import roc_curve\n",
    "\n",
    "fpr, tpr, thresholds = roc_curve(y_train,y_scores_forest)"
   ]
  },
  {
   "cell_type": "code",
   "execution_count": 176,
   "metadata": {},
   "outputs": [],
   "source": [
    "y_train_pred_forest = cross_val_predict(model_xgb, X_prepared, y_train, cv=cv_mo)"
   ]
  },
  {
   "cell_type": "code",
   "execution_count": 211,
   "metadata": {},
   "outputs": [
    {
     "name": "stdout",
     "output_type": "stream",
     "text": [
      "0.6615905245346869\n",
      "0.5230769230769231\n"
     ]
    }
   ],
   "source": [
    "print(precision_score(y_train, cv_predict_best))\n",
    "print(recall_score(y_train, cv_predict_best))"
   ]
  },
  {
   "cell_type": "code",
   "execution_count": null,
   "metadata": {},
   "outputs": [],
   "source": [
    "precisions, recalls, thresholds = precision_recall_curve(y_train, y_scores)"
   ]
  },
  {
   "cell_type": "code",
   "execution_count": null,
   "metadata": {},
   "outputs": [],
   "source": [
    "thresholds"
   ]
  },
  {
   "cell_type": "code",
   "execution_count": null,
   "metadata": {},
   "outputs": [],
   "source": [
    "len(thresholds)"
   ]
  },
  {
   "cell_type": "code",
   "execution_count": null,
   "metadata": {},
   "outputs": [],
   "source": [
    "precision_90_recall = precisions[np.argmax(recalls >= 0.90)]\n",
    "threshold_90_precision = thresholds[np.argmax(recalls >= 0.90)]"
   ]
  },
  {
   "cell_type": "code",
   "execution_count": null,
   "metadata": {},
   "outputs": [],
   "source": [
    "def plot_precision_recall_vs_threshold(precisions, recalls, thresholds):\n",
    "    plt.plot(thresholds, precisions[:-1], \"b--\", label=\"Precision\", linewidth=2)\n",
    "    plt.plot(thresholds, recalls[:-1], \"g-\", label=\"Recall\", linewidth=2)\n",
    "    plt.legend(loc=\"center left\", fontsize=10) \n",
    "    plt.xlabel(\"Threshold\", fontsize=13)        \n",
    "    plt.grid(True)                              \n",
    "    plt.axis([-20, 5, 0, 1])             "
   ]
  },
  {
   "cell_type": "code",
   "execution_count": null,
   "metadata": {},
   "outputs": [],
   "source": [
    "plt.figure(figsize=(8, 4))                                                                 \n",
    "plot_precision_recall_vs_threshold(precisions, recalls, thresholds)"
   ]
  },
  {
   "cell_type": "code",
   "execution_count": null,
   "metadata": {},
   "outputs": [],
   "source": [
    "import matplotlib.pyplot as plt\n",
    "\n",
    "def plot_precision_vs_recall(recalls, precisions):\n",
    "    plt.plot(precisions,recalls, \"b-\", linewidth=2)\n",
    "    plt.xlabel(\"Precision\", fontsize=16)\n",
    "    plt.ylabel(\"Recall\", fontsize=16)\n",
    "    plt.axis([0, 1, 0, 1])\n",
    "    plt.grid(True)\n",
    "\n",
    "plt.figure(figsize=(8, 6))\n",
    "plot_precision_vs_recall(recalls, precisions)\n"
   ]
  },
  {
   "cell_type": "code",
   "execution_count": null,
   "metadata": {},
   "outputs": [],
   "source": [
    "recalls"
   ]
  },
  {
   "cell_type": "code",
   "execution_count": null,
   "metadata": {},
   "outputs": [],
   "source": [
    "threshold_80_recall = thresholds[np.argmax(recalls <= 0.80)]\n",
    "threshold_80_recall"
   ]
  },
  {
   "cell_type": "code",
   "execution_count": null,
   "metadata": {},
   "outputs": [],
   "source": [
    "y_train_pred_80 = (y_scores >= threshold_80_recall)"
   ]
  },
  {
   "cell_type": "code",
   "execution_count": null,
   "metadata": {},
   "outputs": [],
   "source": [
    "from sklearn.metrics import precision_score, recall_score\n",
    "\n",
    "print(precision_score(y_train, y_train_pred_80))\n",
    "print(recall_score(y_train, y_train_pred_80))"
   ]
  },
  {
   "cell_type": "markdown",
   "metadata": {},
   "source": [
    "#### 데이터가 불균형하기 때문에 업샘플링을 통해 비율을 맞춤. "
   ]
  },
  {
   "cell_type": "code",
   "execution_count": 238,
   "metadata": {},
   "outputs": [
    {
     "name": "stdout",
     "output_type": "stream",
     "text": [
      "0    4139\n",
      "1    1495\n",
      "Name: Churn, dtype: int64 [4139 4139]\n"
     ]
    }
   ],
   "source": [
    "from imblearn.over_sampling import SMOTE\n",
    "\n",
    "sm = SMOTE(random_state = 12)\n",
    "x_res, y_res = sm.fit_sample(X_prepared, y_train)\n",
    "print(y_train.value_counts(), np.bincount(y_res))"
   ]
  },
  {
   "cell_type": "code",
   "execution_count": 248,
   "metadata": {},
   "outputs": [
    {
     "name": "stdout",
     "output_type": "stream",
     "text": [
      "Logistic\n",
      "              precision    recall  f1-score   support\n",
      "\n",
      "           0       0.79      0.75      0.77      4139\n",
      "           1       0.76      0.81      0.78      4139\n",
      "\n",
      "    accuracy                           0.78      8278\n",
      "   macro avg       0.78      0.78      0.78      8278\n",
      "weighted avg       0.78      0.78      0.78      8278\n",
      "\n",
      "--------------------------------------\n",
      "RF\n",
      "              precision    recall  f1-score   support\n",
      "\n",
      "           0       0.83      0.74      0.78      4139\n",
      "           1       0.76      0.85      0.81      4139\n",
      "\n",
      "    accuracy                           0.80      8278\n",
      "   macro avg       0.80      0.80      0.79      8278\n",
      "weighted avg       0.80      0.80      0.79      8278\n",
      "\n",
      "--------------------------------------\n",
      "GB\n",
      "              precision    recall  f1-score   support\n",
      "\n",
      "           0       0.86      0.81      0.83      4139\n",
      "           1       0.82      0.87      0.84      4139\n",
      "\n",
      "    accuracy                           0.84      8278\n",
      "   macro avg       0.84      0.84      0.84      8278\n",
      "weighted avg       0.84      0.84      0.84      8278\n",
      "\n",
      "--------------------------------------\n",
      "Ada\n",
      "              precision    recall  f1-score   support\n",
      "\n",
      "           0       0.84      0.78      0.81      4139\n",
      "           1       0.79      0.85      0.82      4139\n",
      "\n",
      "    accuracy                           0.81      8278\n",
      "   macro avg       0.82      0.81      0.81      8278\n",
      "weighted avg       0.82      0.81      0.81      8278\n",
      "\n",
      "--------------------------------------\n",
      "XGB\n",
      "              precision    recall  f1-score   support\n",
      "\n",
      "           0       0.86      0.84      0.85      4139\n",
      "           1       0.85      0.86      0.85      4139\n",
      "\n",
      "    accuracy                           0.85      8278\n",
      "   macro avg       0.85      0.85      0.85      8278\n",
      "weighted avg       0.85      0.85      0.85      8278\n",
      "\n",
      "--------------------------------------\n"
     ]
    }
   ],
   "source": [
    "models = [LogisticRegression(), RandomForestClassifier(n_estimators = 500, max_leaf_nodes = 16, n_jobs = -1), GradientBoostingClassifier(), AdaBoostClassifier(), XGBClassifier()]\n",
    "names = [\"Logistic\",\"RF\",\"GB\",\"Ada\",\"XGB\"]\n",
    "\n",
    "cv_mo = StratifiedKFold(n_splits = 10, shuffle = True, random_state = 20171490)\n",
    "\n",
    "for model, name in zip(models, names):\n",
    "    print(name)\n",
    "    start = time.time()\n",
    "    \n",
    "    # method{'predict’,'predict_proba’, 'predict_log_proba’, 'decision_function'}, default=’predict’\n",
    "    cv_predict = cross_val_predict(model, x_res, y_res,cv=cv_mo)\n",
    "\n",
    "    print(classification_report(y_res, cv_predict))\n",
    "    print(\"--------------------------------------\")"
   ]
  },
  {
   "cell_type": "markdown",
   "metadata": {},
   "source": [
    "업샘플링을 통해 0.86으로 성능 올라감. "
   ]
  },
  {
   "cell_type": "code",
   "execution_count": 254,
   "metadata": {},
   "outputs": [
    {
     "name": "stdout",
     "output_type": "stream",
     "text": [
      "0.9549238497136328\n",
      "[[3510  629]\n",
      " [ 378 3761]]\n",
      "              precision    recall  f1-score   support\n",
      "\n",
      "           0       0.90      0.85      0.87      4139\n",
      "           1       0.86      0.91      0.88      4139\n",
      "\n",
      "    accuracy                           0.88      8278\n",
      "   macro avg       0.88      0.88      0.88      8278\n",
      "weighted avg       0.88      0.88      0.88      8278\n",
      "\n"
     ]
    }
   ],
   "source": [
    "param_XGB = {\"max_depth\" : [3,4,5,6,7],\n",
    "    \"learning_rate\" : [0.01, 0.05, 0.001],\n",
    "    \"booster\" : [\"gbtree\",\"gblinear\",\"dart\"],\n",
    "    \"min_child_weight\" : [1,3,5,7,9,11],\n",
    "    \"scale_pos_weight\":[1,3,5]}\n",
    "\n",
    "cv_xgb = GridSearchCV(XGBClassifier(),param_XGB, cv= cv_mo, scoring = \"roc_auc\")\n",
    "cv_xgb.fit(x_res, y_res)\n",
    "cv_xgb_best_roc = cv_xgb.best_estimator_\n",
    "\n",
    "print(cv_xgb.score(x_res, y_res))\n",
    "print(confusion_matrix(y_res,cv_xgb.predict(x_res)))\n",
    "print(classification_report(y_res,cv_xgb.predict(x_res)))"
   ]
  },
  {
   "cell_type": "code",
   "execution_count": 259,
   "metadata": {},
   "outputs": [
    {
     "name": "stdout",
     "output_type": "stream",
     "text": [
      "0.8719497463155351\n",
      "              precision    recall  f1-score   support\n",
      "\n",
      "           0       0.86      0.78      0.82      4139\n",
      "           1       0.80      0.87      0.83      4139\n",
      "\n",
      "    accuracy                           0.83      8278\n",
      "   macro avg       0.83      0.83      0.83      8278\n",
      "weighted avg       0.83      0.83      0.83      8278\n",
      "\n"
     ]
    }
   ],
   "source": [
    "cv_xgb_best.fit(x_res,y_res)\n",
    "print(recall_score(y_res, cv_xgb_best.predict(x_res)))\n",
    "print(classification_report(y_res,cv_xgb_best.predict(x_res)))"
   ]
  },
  {
   "cell_type": "code",
   "execution_count": 257,
   "metadata": {},
   "outputs": [
    {
     "name": "stdout",
     "output_type": "stream",
     "text": [
      "              precision    recall  f1-score   support\n",
      "\n",
      "           0       0.86      0.82      0.84      4139\n",
      "           1       0.83      0.87      0.85      4139\n",
      "\n",
      "    accuracy                           0.84      8278\n",
      "   macro avg       0.85      0.84      0.84      8278\n",
      "weighted avg       0.85      0.84      0.84      8278\n",
      "\n"
     ]
    }
   ],
   "source": [
    "pred = cross_val_predict(cv_xgb_best_roc,x_res,y_res, cv = 10)\n",
    "print(classification_report(y_res,pred))"
   ]
  }
 ],
 "metadata": {
  "kernelspec": {
   "display_name": "Python 3",
   "language": "python",
   "name": "python3"
  },
  "language_info": {
   "codemirror_mode": {
    "name": "ipython",
    "version": 3
   },
   "file_extension": ".py",
   "mimetype": "text/x-python",
   "name": "python",
   "nbconvert_exporter": "python",
   "pygments_lexer": "ipython3",
   "version": "3.7.6"
  }
 },
 "nbformat": 4,
 "nbformat_minor": 4
}
